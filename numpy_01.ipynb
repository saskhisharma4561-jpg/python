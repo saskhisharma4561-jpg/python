{
 "cells": [
  {
   "cell_type": "code",
   "execution_count": 2,
   "id": "0a3c40b4-841c-43c2-ac05-681f75c429d6",
   "metadata": {},
   "outputs": [
    {
     "name": "stdout",
     "output_type": "stream",
     "text": [
      "Requirement already satisfied: numpy in c:\\programdata\\anaconda3\\lib\\site-packages (2.1.3)\n"
     ]
    }
   ],
   "source": [
    "! pip install numpy"
   ]
  },
  {
   "cell_type": "code",
   "execution_count": 8,
   "id": "544bc016-2cd9-4718-a84c-89550ac6457a",
   "metadata": {},
   "outputs": [
    {
     "name": "stdout",
     "output_type": "stream",
     "text": [
      "[21 23 22 24]\n",
      "24\n",
      "<class 'numpy.ndarray'>\n",
      "(4,)\n"
     ]
    }
   ],
   "source": [
    "import numpy as np\n",
    "data=np.array([21,23,22,24])\n",
    "print(data)\n",
    "print(data[3])\n",
    "print(type(data))\n",
    "print(data.shape)"
   ]
  },
  {
   "cell_type": "code",
   "execution_count": 11,
   "id": "b7319f15-22eb-4b55-9c16-f7f7c441834b",
   "metadata": {},
   "outputs": [
    {
     "name": "stdout",
     "output_type": "stream",
     "text": [
      "(3, 3)\n",
      "[[21 22 23]\n",
      " [34 45 35]\n",
      " [67 68 69]]\n",
      "45\n"
     ]
    }
   ],
   "source": [
    "data=np.array([[21,22,23],[34,45,35],[67,68,69]])\n",
    "print(data.shape)\n",
    "print(data)\n",
    "print(data[1,1])\n"
   ]
  },
  {
   "cell_type": "code",
   "execution_count": 12,
   "id": "3fa41fca-241e-4376-857f-7a12137d6cd9",
   "metadata": {},
   "outputs": [
    {
     "name": "stdout",
     "output_type": "stream",
     "text": [
      "(1, 6, 3)\n",
      "18\n",
      "3\n"
     ]
    }
   ],
   "source": [
    "data=data=np.array([[[21,22,23],[34,45,35],[67,68,69] ,[21,22,23],[34,45,35],[67,68,69]]])\n",
    "print(data.shape)\n",
    "print(data.size)\n",
    "print(data.ndim)\n"
   ]
  },
  {
   "cell_type": "code",
   "execution_count": 15,
   "id": "a4e1bcd6-0f29-481c-9a73-98b392b43e42",
   "metadata": {},
   "outputs": [
    {
     "name": "stdout",
     "output_type": "stream",
     "text": [
      "(1, 1, 12, 3)\n",
      "36\n",
      "4\n"
     ]
    }
   ],
   "source": [
    "data=data=np.array([[[[21,22,23],[34,45,35],[67,68,69] ,[21,22,23],[34,45,35],[67,68,69],[21,22,23],[34,45,35],[67,68,69] ,[21,22,23],[34,45,35],[67,68,69]]]])\n",
    "print(data.shape)\n",
    "print(data.size)\n",
    "print(data.ndim)"
   ]
  },
  {
   "cell_type": "code",
   "execution_count": null,
   "id": "22cfeec4-74f4-4071-9af2-0813efbd86eb",
   "metadata": {},
   "outputs": [],
   "source": []
  }
 ],
 "metadata": {
  "kernelspec": {
   "display_name": "Python [conda env:base] *",
   "language": "python",
   "name": "conda-base-py"
  },
  "language_info": {
   "codemirror_mode": {
    "name": "ipython",
    "version": 3
   },
   "file_extension": ".py",
   "mimetype": "text/x-python",
   "name": "python",
   "nbconvert_exporter": "python",
   "pygments_lexer": "ipython3",
   "version": "3.13.5"
  }
 },
 "nbformat": 4,
 "nbformat_minor": 5
}
